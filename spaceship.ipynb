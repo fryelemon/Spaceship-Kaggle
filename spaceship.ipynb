{
 "cells": [
  {
   "cell_type": "code",
   "execution_count": 1,
   "id": "608e1588",
   "metadata": {
    "_cell_guid": "b1076dfc-b9ad-4769-8c92-a6c4dae69d19",
    "_uuid": "8f2839f25d086af736a60e9eeb907d3b93b6e0e5",
    "execution": {
     "iopub.execute_input": "2025-03-19T13:03:57.541922Z",
     "iopub.status.busy": "2025-03-19T13:03:57.541505Z",
     "iopub.status.idle": "2025-03-19T13:03:58.515565Z",
     "shell.execute_reply": "2025-03-19T13:03:58.514203Z"
    },
    "papermill": {
     "duration": 0.980583,
     "end_time": "2025-03-19T13:03:58.517379",
     "exception": false,
     "start_time": "2025-03-19T13:03:57.536796",
     "status": "completed"
    },
    "tags": []
   },
   "outputs": [
    {
     "name": "stdout",
     "output_type": "stream",
     "text": [
      "/kaggle/input/spaceship-titanic/sample_submission.csv\n",
      "/kaggle/input/spaceship-titanic/train.csv\n",
      "/kaggle/input/spaceship-titanic/test.csv\n"
     ]
    }
   ],
   "source": [
    "# This Python 3 environment comes with many helpful analytics libraries installed\n",
    "# It is defined by the kaggle/python Docker image: https://github.com/kaggle/docker-python\n",
    "# For example, here's several helpful packages to load\n",
    "\n",
    "import numpy as np # linear algebra\n",
    "import pandas as pd # data processing, CSV file I/O (e.g. pd.read_csv)\n",
    "\n",
    "# Input data files are available in the read-only \"../input/\" directory\n",
    "# For example, running this (by clicking run or pressing Shift+Enter) will list all files under the input directory\n",
    "\n",
    "import os\n",
    "for dirname, _, filenames in os.walk('/kaggle/input'):\n",
    "    for filename in filenames:\n",
    "        print(os.path.join(dirname, filename))\n",
    "\n",
    "# You can write up to 20GB to the current directory (/kaggle/working/) that gets preserved as output when you create a version using \"Save & Run All\" \n",
    "# You can also write temporary files to /kaggle/temp/, but they won't be saved outside of the current session"
   ]
  },
  {
   "cell_type": "code",
   "execution_count": 2,
   "id": "a0ae3366",
   "metadata": {
    "execution": {
     "iopub.execute_input": "2025-03-19T13:03:58.524477Z",
     "iopub.status.busy": "2025-03-19T13:03:58.524011Z",
     "iopub.status.idle": "2025-03-19T13:04:01.251890Z",
     "shell.execute_reply": "2025-03-19T13:04:01.250884Z"
    },
    "papermill": {
     "duration": 2.733265,
     "end_time": "2025-03-19T13:04:01.253728",
     "exception": false,
     "start_time": "2025-03-19T13:03:58.520463",
     "status": "completed"
    },
    "tags": []
   },
   "outputs": [],
   "source": [
    "import numpy as np\n",
    "import pandas as pd\n",
    "from sklearn.model_selection import train_test_split, GridSearchCV\n",
    "from sklearn.preprocessing import StandardScaler, LabelEncoder\n",
    "from sklearn.impute import SimpleImputer\n",
    "from sklearn.ensemble import GradientBoostingClassifier\n",
    "from catboost import CatBoostClassifier\n",
    "from sklearn.metrics import accuracy_score"
   ]
  },
  {
   "cell_type": "code",
   "execution_count": 3,
   "id": "3a272b18",
   "metadata": {
    "execution": {
     "iopub.execute_input": "2025-03-19T13:04:01.260402Z",
     "iopub.status.busy": "2025-03-19T13:04:01.259969Z",
     "iopub.status.idle": "2025-03-19T13:04:01.351659Z",
     "shell.execute_reply": "2025-03-19T13:04:01.350489Z"
    },
    "papermill": {
     "duration": 0.097261,
     "end_time": "2025-03-19T13:04:01.353862",
     "exception": false,
     "start_time": "2025-03-19T13:04:01.256601",
     "status": "completed"
    },
    "tags": []
   },
   "outputs": [],
   "source": [
    "# 1. Data Loading and Exploration\n",
    "train_data = pd.read_csv('/kaggle/input/spaceship-titanic/train.csv')\n",
    "test_data = pd.read_csv('/kaggle/input/spaceship-titanic/test.csv')"
   ]
  },
  {
   "cell_type": "code",
   "execution_count": 4,
   "id": "a1a66d80",
   "metadata": {
    "execution": {
     "iopub.execute_input": "2025-03-19T13:04:01.360875Z",
     "iopub.status.busy": "2025-03-19T13:04:01.360483Z",
     "iopub.status.idle": "2025-03-19T13:04:01.493469Z",
     "shell.execute_reply": "2025-03-19T13:04:01.492638Z"
    },
    "papermill": {
     "duration": 0.138537,
     "end_time": "2025-03-19T13:04:01.495319",
     "exception": false,
     "start_time": "2025-03-19T13:04:01.356782",
     "status": "completed"
    },
    "tags": []
   },
   "outputs": [],
   "source": [
    "# 2. Data Preprocessing\n",
    "# a. Handle Missing Values\n",
    "numerical_cols = ['Age', 'RoomService', 'FoodCourt', 'ShoppingMall', 'Spa', 'VRDeck']\n",
    "categorical_cols = ['HomePlanet', 'CryoSleep', 'Destination', 'VIP']\n",
    "cabin_cols = ['Cabin']\n",
    "\n",
    "imputer_numerical = SimpleImputer(strategy='median')  # Impute numerical with median\n",
    "train_data[numerical_cols] = imputer_numerical.fit_transform(train_data[numerical_cols])\n",
    "test_data[numerical_cols] = imputer_numerical.transform(test_data[numerical_cols])\n",
    "\n",
    "imputer_categorical = SimpleImputer(strategy='most_frequent')  # Impute categorical with mode\n",
    "train_data[categorical_cols] = imputer_categorical.fit_transform(train_data[categorical_cols])\n",
    "test_data[categorical_cols] = imputer_categorical.transform(test_data[categorical_cols])\n",
    "\n",
    "# Cabin Feature Handling: Split and Impute\n",
    "def split_cabin(df):\n",
    "    df[['Cabin_Deck', 'Cabin_Num', 'Cabin_Side']] = df['Cabin'].str.split('/', expand=True)\n",
    "    df.drop('Cabin', axis=1, inplace=True)\n",
    "    return df\n",
    "\n",
    "train_data = split_cabin(train_data)\n",
    "test_data = split_cabin(test_data)\n",
    "\n",
    "cabin_cols_new = ['Cabin_Deck', 'Cabin_Num', 'Cabin_Side'] # added this to process the new columns\n",
    "train_data[cabin_cols_new] = imputer_categorical.fit_transform(train_data[cabin_cols_new])\n",
    "test_data[cabin_cols_new] = imputer_categorical.transform(test_data[cabin_cols_new])\n",
    "\n",
    "\n",
    "# b. Feature Engineering (Example: Total Spending)\n",
    "train_data['TotalSpending'] = train_data['RoomService'] + train_data['FoodCourt'] + train_data['ShoppingMall'] + train_data['Spa'] + train_data['VRDeck']\n",
    "test_data['TotalSpending'] = test_data['RoomService'] + test_data['FoodCourt'] + test_data['ShoppingMall'] + test_data['Spa'] + test_data['VRDeck']\n",
    "\n",
    "# c. Encoding Categorical Features\n",
    "label_encoder = LabelEncoder()\n",
    "train_data['Transported'] = label_encoder.fit_transform(train_data['Transported'])  # Encode target\n",
    "\n",
    "# Identify categorical columns for one-hot encoding\n",
    "categorical_cols_for_encoding = ['HomePlanet', 'CryoSleep', 'Destination', 'VIP', 'Cabin_Deck', 'Cabin_Side']\n",
    "\n",
    "# Perform one-hot encoding\n",
    "train_data = pd.get_dummies(train_data, columns=categorical_cols_for_encoding, drop_first=True)\n",
    "test_data = pd.get_dummies(test_data, columns=categorical_cols_for_encoding, drop_first=True)\n",
    "\n",
    "# d. Feature Scaling\n",
    "numerical_cols_for_scaling = ['Age', 'RoomService', 'FoodCourt', 'ShoppingMall', 'Spa', 'VRDeck', 'TotalSpending'] #added TotalSpending\n",
    "\n",
    "scaler = StandardScaler()\n",
    "train_data[numerical_cols_for_scaling] = scaler.fit_transform(train_data[numerical_cols_for_scaling])\n",
    "test_data[numerical_cols_for_scaling] = scaler.transform(test_data[numerical_cols_for_scaling])"
   ]
  },
  {
   "cell_type": "code",
   "execution_count": 5,
   "id": "9764ee5c",
   "metadata": {
    "execution": {
     "iopub.execute_input": "2025-03-19T13:04:01.502020Z",
     "iopub.status.busy": "2025-03-19T13:04:01.501696Z",
     "iopub.status.idle": "2025-03-19T13:04:01.514030Z",
     "shell.execute_reply": "2025-03-19T13:04:01.513176Z"
    },
    "papermill": {
     "duration": 0.017674,
     "end_time": "2025-03-19T13:04:01.515826",
     "exception": false,
     "start_time": "2025-03-19T13:04:01.498152",
     "status": "completed"
    },
    "tags": []
   },
   "outputs": [],
   "source": [
    "# 3. Model Training\n",
    "\n",
    "# a. Prepare Data for Modeling\n",
    "X = train_data.drop(['PassengerId', 'Name', 'Transported'], axis=1)\n",
    "y = train_data['Transported']\n",
    "\n",
    "# Align columns between train and test sets\n",
    "train_cols = X.columns\n",
    "test_cols = test_data.drop(['PassengerId', 'Name'], axis=1).columns\n",
    "\n",
    "missing_cols_train = set(test_cols) - set(train_cols)\n",
    "for c in missing_cols_train:\n",
    "    X[c] = 0\n",
    "\n",
    "X_train, X_val, y_train, y_val = train_test_split(X, y, test_size=0.2, random_state=42)"
   ]
  },
  {
   "cell_type": "code",
   "execution_count": 6,
   "id": "378812e1",
   "metadata": {
    "execution": {
     "iopub.execute_input": "2025-03-19T13:04:01.522489Z",
     "iopub.status.busy": "2025-03-19T13:04:01.522173Z",
     "iopub.status.idle": "2025-03-19T13:05:40.049930Z",
     "shell.execute_reply": "2025-03-19T13:05:40.048647Z"
    },
    "papermill": {
     "duration": 98.535445,
     "end_time": "2025-03-19T13:05:40.054115",
     "exception": false,
     "start_time": "2025-03-19T13:04:01.518670",
     "status": "completed"
    },
    "tags": []
   },
   "outputs": [
    {
     "name": "stdout",
     "output_type": "stream",
     "text": [
      "CatBoost Best Parameters: {'depth': 6, 'iterations': 200, 'l2_leaf_reg': 1, 'learning_rate': 0.05}\n",
      "CatBoost Validation Accuracy: 0.8033352501437608\n",
      "Gradient Boosting Best Parameters: {'learning_rate': 0.05, 'max_depth': 3, 'min_samples_split': 2, 'n_estimators': 200}\n",
      "Gradient Boosting Validation Accuracy: 0.7981598619896493\n"
     ]
    }
   ],
   "source": [
    "# b. CatBoost with GridSearchCV\n",
    "cat_model = CatBoostClassifier(verbose=0, random_state=42) # Suppress verbose output\n",
    "cat_param_grid = {\n",
    "    'iterations': [100, 200],\n",
    "    'learning_rate': [0.01, 0.05],\n",
    "    'depth': [4, 6],\n",
    "    'l2_leaf_reg': [1, 3]\n",
    "}\n",
    "\n",
    "cat_grid = GridSearchCV(cat_model, cat_param_grid, cv=5, scoring='accuracy', verbose=0, n_jobs=-1) #added verbose and n_jobs\n",
    "\n",
    "cat_grid.fit(X_train, y_train)\n",
    "print(\"CatBoost Best Parameters:\", cat_grid.best_params_)\n",
    "\n",
    "cat_best_model = cat_grid.best_estimator_\n",
    "cat_predictions = cat_best_model.predict(X_val)\n",
    "print(\"CatBoost Validation Accuracy:\", accuracy_score(y_val, cat_predictions))\n",
    "\n",
    "\n",
    "# c. Gradient Boosting with GridSearchCV\n",
    "gb_model = GradientBoostingClassifier(random_state=42)\n",
    "gb_param_grid = {\n",
    "    'n_estimators': [100, 200],\n",
    "    'learning_rate': [0.01, 0.05],\n",
    "    'max_depth': [3, 5],\n",
    "    'min_samples_split': [2, 4]\n",
    "}\n",
    "\n",
    "gb_grid = GridSearchCV(gb_model, gb_param_grid, cv=5, scoring='accuracy', verbose=0, n_jobs=-1) #added verbose and n_jobs\n",
    "\n",
    "gb_grid.fit(X_train, y_train)\n",
    "print(\"Gradient Boosting Best Parameters:\", gb_grid.best_params_)\n",
    "\n",
    "gb_best_model = gb_grid.best_estimator_\n",
    "gb_predictions = gb_best_model.predict(X_val)\n",
    "print(\"Gradient Boosting Validation Accuracy:\", accuracy_score(y_val, gb_predictions))"
   ]
  },
  {
   "cell_type": "code",
   "execution_count": 7,
   "id": "fe05ca72",
   "metadata": {
    "execution": {
     "iopub.execute_input": "2025-03-19T13:05:40.061274Z",
     "iopub.status.busy": "2025-03-19T13:05:40.060935Z",
     "iopub.status.idle": "2025-03-19T13:05:40.092137Z",
     "shell.execute_reply": "2025-03-19T13:05:40.090839Z"
    },
    "papermill": {
     "duration": 0.037161,
     "end_time": "2025-03-19T13:05:40.094204",
     "exception": false,
     "start_time": "2025-03-19T13:05:40.057043",
     "status": "completed"
    },
    "tags": []
   },
   "outputs": [],
   "source": [
    "# 4. Prediction and Submission\n",
    "# a. Predict on Test Data\n",
    "test_X = test_data.drop(['PassengerId', 'Name'], axis=1)\n",
    "\n",
    "cat_test_predictions = cat_best_model.predict(test_X)\n",
    "gb_test_predictions = gb_best_model.predict(test_X)\n",
    "\n",
    "\n",
    "# Choose the better model (based on validation accuracy, for example)\n",
    "# Here, I am assuming CatBoost performed better.  Adjust this based on your results.\n",
    "final_predictions = cat_test_predictions"
   ]
  },
  {
   "cell_type": "code",
   "execution_count": 8,
   "id": "0598e455",
   "metadata": {
    "execution": {
     "iopub.execute_input": "2025-03-19T13:05:40.101494Z",
     "iopub.status.busy": "2025-03-19T13:05:40.101157Z",
     "iopub.status.idle": "2025-03-19T13:05:40.121231Z",
     "shell.execute_reply": "2025-03-19T13:05:40.120102Z"
    },
    "papermill": {
     "duration": 0.025872,
     "end_time": "2025-03-19T13:05:40.123240",
     "exception": false,
     "start_time": "2025-03-19T13:05:40.097368",
     "status": "completed"
    },
    "tags": []
   },
   "outputs": [],
   "source": [
    "# b. Create Submission File\n",
    "submission = pd.DataFrame({'PassengerId': test_data['PassengerId'], 'Transported': final_predictions})\n",
    "submission['Transported'] = submission['Transported'].map({0: False, 1: True}) #Convert predictions back to True/False\n",
    "submission.to_csv('submission.csv', index=False)"
   ]
  }
 ],
 "metadata": {
  "kaggle": {
   "accelerator": "none",
   "dataSources": [
    {
     "databundleVersionId": 3220602,
     "sourceId": 34377,
     "sourceType": "competition"
    }
   ],
   "dockerImageVersionId": 30918,
   "isGpuEnabled": false,
   "isInternetEnabled": false,
   "language": "python",
   "sourceType": "notebook"
  },
  "kernelspec": {
   "display_name": "Python 3",
   "language": "python",
   "name": "python3"
  },
  "language_info": {
   "codemirror_mode": {
    "name": "ipython",
    "version": 3
   },
   "file_extension": ".py",
   "mimetype": "text/x-python",
   "name": "python",
   "nbconvert_exporter": "python",
   "pygments_lexer": "ipython3",
   "version": "3.10.12"
  },
  "papermill": {
   "default_parameters": {},
   "duration": 106.256444,
   "end_time": "2025-03-19T13:05:40.949316",
   "environment_variables": {},
   "exception": null,
   "input_path": "__notebook__.ipynb",
   "output_path": "__notebook__.ipynb",
   "parameters": {},
   "start_time": "2025-03-19T13:03:54.692872",
   "version": "2.6.0"
  }
 },
 "nbformat": 4,
 "nbformat_minor": 5
}
